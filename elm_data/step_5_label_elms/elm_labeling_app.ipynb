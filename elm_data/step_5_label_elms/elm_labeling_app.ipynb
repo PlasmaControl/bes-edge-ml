{
 "cells": [
  {
   "cell_type": "code",
   "execution_count": 1,
   "metadata": {},
   "outputs": [],
   "source": [
    "%matplotlib widget\n",
    "import matplotlib.pyplot as plt\n",
    "import ipywidgets as widgets\n",
    "from elm_data.step_5_label_elms.elm_labeling_app import BES_ELM_Labeling_App\n",
    "from elm_data.data_tools import print_hdf5_contents"
   ]
  },
  {
   "cell_type": "code",
   "execution_count": 4,
   "metadata": {},
   "outputs": [
    {
     "name": "stdout",
     "output_type": "stream",
     "text": [
      "Contents of ./labeled_elms_v2.hdf5\n",
      "Group /: 0 datasets, 2 subgroups, and 1 attributes\n",
      "  Attribute excluded_shots: shape (0,) dtype int64\n",
      "Group /elms: 0 datasets, 0 subgroups, and 0 attributes\n",
      "Group /shots: 0 datasets, 0 subgroups, and 0 attributes\n"
     ]
    }
   ],
   "source": [
    "elm_label_file = './labeled_elms_v2.hdf5'\n",
    "print_hdf5_contents(elm_label_file, print_datasets=False)"
   ]
  },
  {
   "cell_type": "code",
   "execution_count": 3,
   "metadata": {},
   "outputs": [
    {
     "name": "stdout",
     "output_type": "stream",
     "text": [
      "HDF5 data file: /home/smithdr/ml/elm_data/step_4_shot_partial_data/data_v5.hdf5\n",
      "  Shots: 887\n",
      "Truncating labeled ELM file\n",
      "HDF5 labeled ELM file: /fusion/projects/diagnostics/bes/smithdr/edgeml/elm_data/step_5_label_elms/labeled_elms_v2.hdf5\n",
      "  0 ELMs from 0 shots (0 excluded shots)\n"
     ]
    }
   ],
   "source": [
    "plt.close('all')\n",
    "widgets.Widget.close_all()\n",
    "\n",
    "app = BES_ELM_Labeling_App(\n",
    "    data_hdf5_file='/home/smithdr/ml/elm_data/step_4_shot_partial_data/data_v5.hdf5',\n",
    "    elm_labels_hdf5_file=elm_label_file,\n",
    "    truncate=True,\n",
    ")"
   ]
  },
  {
   "cell_type": "code",
   "execution_count": null,
   "metadata": {},
   "outputs": [],
   "source": [
    "widgets.AppLayout(\n",
    "    left_sidebar=app.controls,\n",
    "    center=app.fig.canvas,\n",
    "    footer=app.status_label,\n",
    "    pane_widths=['160px', 1, 0],\n",
    "    pane_heights=[0, 1, '40px'],\n",
    ")"
   ]
  },
  {
   "cell_type": "code",
   "execution_count": null,
   "metadata": {},
   "outputs": [],
   "source": []
  },
  {
   "cell_type": "code",
   "execution_count": null,
   "metadata": {},
   "outputs": [],
   "source": []
  }
 ],
 "metadata": {
  "kernelspec": {
   "display_name": "py311",
   "language": "python",
   "name": "python3"
  },
  "language_info": {
   "codemirror_mode": {
    "name": "ipython",
    "version": 3
   },
   "file_extension": ".py",
   "mimetype": "text/x-python",
   "name": "python",
   "nbconvert_exporter": "python",
   "pygments_lexer": "ipython3",
   "version": "3.11.5"
  },
  "orig_nbformat": 4
 },
 "nbformat": 4,
 "nbformat_minor": 2
}
