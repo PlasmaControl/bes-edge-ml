{
 "cells": [
  {
   "cell_type": "code",
   "execution_count": 1,
   "metadata": {},
   "outputs": [],
   "source": [
    "%matplotlib widget\n",
    "import matplotlib.pyplot as plt\n",
    "import ipywidgets as widgets\n",
    "from elm_data.step_5_label_elms.elm_labeling_app import BES_ELM_Labeling_App\n",
    "from elm_data.data_tools import print_hdf5_contents"
   ]
  },
  {
   "cell_type": "code",
   "execution_count": 2,
   "metadata": {},
   "outputs": [
    {
     "name": "stdout",
     "output_type": "stream",
     "text": [
      "Contents of /home/smithdr/ml/elm_data/step_5_label_elms/elm_label_data_v3.hdf5\n",
      "File size and last modification: 2,708.8 MB  2024-02-18 11:37:53\n",
      "  Group /: 0 datasets, 3 subgroups, and 1 attributes\n",
      "    Attribute excluded_shots: shape (255,) dtype int64\n",
      "  Group /configurations: 0 datasets, 2 subgroups, and 0 attributes\n",
      "  Group /configurations/8x8_configurations: 0 datasets, 17 subgroups, and 1 attributes\n",
      "    Attribute n_shots: value 887 type <class 'numpy.int64'>\n",
      "  Group /configurations/8x8_configurations/0001: 0 datasets, 0 subgroups, and 10 attributes\n",
      "    Attribute delz_avg: value 1.3200000524520874 type <class 'numpy.float32'>\n",
      "    Attribute inboard_column_channel_order: shape (8,) dtype int64\n",
      "    Attribute is_8x8: value True type <class 'numpy.bool_'>\n",
      "    Attribute is_standard_8x8: value True type <class 'numpy.bool_'>\n",
      "    Attribute n_shots: value 50 type <class 'numpy.int64'>\n",
      "    Attribute r_avg: value 224.10000610351562 type <class 'numpy.float32'>\n",
      "    Attribute r_position: shape (64,) dtype float32\n",
      "    Attribute shots: shape (50,) dtype int64\n",
      "    Attribute z_avg: value -0.5 type <class 'numpy.float32'>\n",
      "    Attribute z_position: shape (64,) dtype float32\n",
      "  Group /configurations/8x8_configurations/0002: 0 datasets, 0 subgroups, and 10 attributes\n",
      "    Attribute delz_avg: value 1.3200000524520874 type <class 'numpy.float32'>\n",
      "    Attribute inboard_column_channel_order: shape (8,) dtype int64\n",
      "    Attribute is_8x8: value True type <class 'numpy.bool_'>\n",
      "    Attribute is_standard_8x8: value True type <class 'numpy.bool_'>\n",
      "    Attribute n_shots: value 26 type <class 'numpy.int64'>\n",
      "    Attribute r_avg: value 226.0 type <class 'numpy.float32'>\n",
      "    Attribute r_position: shape (64,) dtype float32\n",
      "    Attribute shots: shape (26,) dtype int64\n",
      "    Attribute z_avg: value -0.5 type <class 'numpy.float32'>\n",
      "    Attribute z_position: shape (64,) dtype float32\n",
      "  Group /configurations/8x8_configurations/0003: 0 datasets, 0 subgroups, and 10 attributes\n",
      "    Attribute delz_avg: value 1.3200000524520874 type <class 'numpy.float32'>\n",
      "    Attribute inboard_column_channel_order: shape (8,) dtype int64\n",
      "    Attribute is_8x8: value True type <class 'numpy.bool_'>\n",
      "    Attribute is_standard_8x8: value True type <class 'numpy.bool_'>\n",
      "    Attribute n_shots: value 14 type <class 'numpy.int64'>\n",
      "    Attribute r_avg: value 225.10000610351562 type <class 'numpy.float32'>\n",
      "    Attribute r_position: shape (64,) dtype float32\n",
      "    Attribute shots: shape (14,) dtype int64\n",
      "    Attribute z_avg: value -0.5 type <class 'numpy.float32'>\n",
      "    Attribute z_position: shape (64,) dtype float32\n",
      "  Group /configurations/non_8x8_configurations: 0 datasets, 0 subgroups, and 1 attributes\n",
      "    Attribute n_shots: value 0 type <class 'numpy.int64'>\n"
     ]
    },
    {
     "name": "stdout",
     "output_type": "stream",
     "text": [
      "  Group /elms: 0 datasets, 2888 subgroups, and 0 attributes\n",
      "  Group /elms/000000: 0 datasets, 0 subgroups, and 3 attributes\n",
      "    Attribute shot: value 192006 type <class 'numpy.int64'>\n",
      "    Attribute t_start: value 3537.780029296875 type <class 'numpy.float64'>\n",
      "    Attribute t_stop: value 3568.83994140625 type <class 'numpy.float64'>\n",
      "  Group /elms/000001: 0 datasets, 0 subgroups, and 3 attributes\n",
      "    Attribute shot: value 192006 type <class 'numpy.int64'>\n",
      "    Attribute t_start: value 3569.93994140625 type <class 'numpy.float64'>\n",
      "    Attribute t_stop: value 3589.75986328125 type <class 'numpy.float64'>\n",
      "  Group /elms/000002: 0 datasets, 0 subgroups, and 3 attributes\n",
      "    Attribute shot: value 192006 type <class 'numpy.int64'>\n",
      "    Attribute t_start: value 3623.919921875 type <class 'numpy.float64'>\n",
      "    Attribute t_stop: value 3655.73984375 type <class 'numpy.float64'>\n",
      "  Group /shots: 0 datasets, 135 subgroups, and 0 attributes\n",
      "  Group /shots/162303: 16 datasets, 0 subgroups, and 32 attributes\n",
      "    Attribute bes_channels: shape (2,) dtype int64\n",
      "    Attribute bes_start_time: value 600.0 type <class 'numpy.float32'>\n",
      "    Attribute bes_stop_time: value 6267.0 type <class 'numpy.float32'>\n",
      "    Attribute bt_extremum: value -2.1032068729400635 type <class 'numpy.float32'>\n",
      "    Attribute bt_pos_phi: value False type <class 'numpy.bool_'>\n",
      "    Attribute configuration_index: value 1 type <class 'numpy.int64'>\n",
      "    Attribute date: 25-JUN-2015 10:54:07.55\n",
      "    Attribute delz_avg: value 1.3200000524520874 type <class 'numpy.float32'>\n",
      "    Attribute inboard_column_channel_order: shape (8,) dtype int64\n",
      "    Attribute ip_extremum: value 1218571.625 type <class 'numpy.float32'>\n",
      "    Attribute ip_pos_phi: value True type <class 'numpy.bool_'>\n",
      "    Attribute is_8x8: value True type <class 'numpy.bool_'>\n",
      "    Attribute is_standard_8x8: value True type <class 'numpy.bool_'>\n",
      "    Attribute max_bes_sample_rate: value 200000.0 type <class 'numpy.float64'>\n",
      "    Attribute min_pinj_15l: value False type <class 'numpy.bool_'>\n",
      "    Attribute min_sustained_15l: value False type <class 'numpy.bool_'>\n",
      "    Attribute only_8x8: value False type <class 'numpy.bool_'>\n",
      "    Attribute only_neg_bt: value False type <class 'numpy.bool_'>\n",
      "    Attribute only_pos_ip: value False type <class 'numpy.bool_'>\n",
      "    Attribute only_standard_8x8: value False type <class 'numpy.bool_'>\n",
      "    Attribute pinj_15l_max: value 1667977.5 type <class 'numpy.float32'>\n",
      "    Attribute pinj_15r_max: value 1822269.75 type <class 'numpy.float32'>\n",
      "    Attribute pinj_max: value 6375.77294921875 type <class 'numpy.float32'>\n",
      "    Attribute quiet: value False type <class 'numpy.bool_'>\n",
      "    Attribute r_avg: value 224.10000610351562 type <class 'numpy.float32'>\n",
      "    Attribute r_position: shape (64,) dtype float32\n",
      "    Attribute shot: value 162303 type <class 'numpy.int64'>\n",
      "    Attribute shot_intervals: shape (26, 2) dtype float64\n",
      "    Attribute skip_metadata: value False type <class 'numpy.bool_'>\n",
      "    Attribute with_limited_signals: value True type <class 'numpy.bool_'>\n",
      "    Attribute z_avg: value -0.5 type <class 'numpy.float32'>\n",
      "    Attribute z_position: shape (64,) dtype float32\n",
      "  Group /shots/164791: 16 datasets, 0 subgroups, and 32 attributes\n",
      "    Attribute bes_channels: shape (2,) dtype int64\n",
      "    Attribute bes_start_time: value 500.0 type <class 'numpy.float32'>\n",
      "    Attribute bes_stop_time: value 6167.0 type <class 'numpy.float32'>\n",
      "    Attribute bt_extremum: value -2.092060089111328 type <class 'numpy.float32'>\n",
      "    Attribute bt_pos_phi: value False type <class 'numpy.bool_'>\n",
      "    Attribute configuration_index: value 2 type <class 'numpy.int64'>\n",
      "    Attribute date: 18-APR-2016 18:28:06.36\n",
      "    Attribute delz_avg: value 1.3200000524520874 type <class 'numpy.float32'>\n",
      "    Attribute inboard_column_channel_order: shape (8,) dtype int64\n",
      "    Attribute ip_extremum: value 1208833.0 type <class 'numpy.float32'>\n",
      "    Attribute ip_pos_phi: value True type <class 'numpy.bool_'>\n",
      "    Attribute is_8x8: value True type <class 'numpy.bool_'>\n",
      "    Attribute is_standard_8x8: value True type <class 'numpy.bool_'>\n",
      "    Attribute max_bes_sample_rate: value 200000.0 type <class 'numpy.float64'>\n",
      "    Attribute min_pinj_15l: value False type <class 'numpy.bool_'>\n",
      "    Attribute min_sustained_15l: value False type <class 'numpy.bool_'>\n",
      "    Attribute only_8x8: value False type <class 'numpy.bool_'>\n",
      "    Attribute only_neg_bt: value False type <class 'numpy.bool_'>\n",
      "    Attribute only_pos_ip: value False type <class 'numpy.bool_'>\n",
      "    Attribute only_standard_8x8: value False type <class 'numpy.bool_'>\n",
      "    Attribute pinj_15l_max: value 1114108.25 type <class 'numpy.float32'>\n",
      "    Attribute pinj_15r_max: value 779633.4375 type <class 'numpy.float32'>\n",
      "    Attribute pinj_max: value 4650.7001953125 type <class 'numpy.float32'>\n",
      "    Attribute quiet: value True type <class 'numpy.bool_'>\n",
      "    Attribute r_avg: value 226.0 type <class 'numpy.float32'>\n",
      "    Attribute r_position: shape (64,) dtype float32\n",
      "    Attribute shot: value 164791 type <class 'numpy.int64'>\n",
      "    Attribute shot_intervals: shape (14, 2) dtype float64\n",
      "    Attribute skip_metadata: value False type <class 'numpy.bool_'>\n",
      "    Attribute with_limited_signals: value True type <class 'numpy.bool_'>\n",
      "    Attribute z_avg: value -0.5 type <class 'numpy.float32'>\n",
      "    Attribute z_position: shape (64,) dtype float32\n",
      "  Group /shots/164797: 16 datasets, 0 subgroups, and 32 attributes\n",
      "    Attribute bes_channels: shape (2,) dtype int64\n",
      "    Attribute bes_start_time: value 1000.0 type <class 'numpy.float32'>\n",
      "    Attribute bes_stop_time: value 4636.0 type <class 'numpy.float32'>\n",
      "    Attribute bt_extremum: value -2.081728935241699 type <class 'numpy.float32'>\n",
      "    Attribute bt_pos_phi: value False type <class 'numpy.bool_'>\n",
      "    Attribute configuration_index: value 2 type <class 'numpy.int64'>\n",
      "    Attribute date: 18-APR-2016 18:17:25.70\n",
      "    Attribute delz_avg: value 1.3200000524520874 type <class 'numpy.float32'>\n",
      "    Attribute inboard_column_channel_order: shape (8,) dtype int64\n",
      "    Attribute ip_extremum: value 1395722.875 type <class 'numpy.float32'>\n",
      "    Attribute ip_pos_phi: value True type <class 'numpy.bool_'>\n",
      "    Attribute is_8x8: value True type <class 'numpy.bool_'>\n",
      "    Attribute is_standard_8x8: value True type <class 'numpy.bool_'>\n",
      "    Attribute max_bes_sample_rate: value 200000.0 type <class 'numpy.float64'>\n",
      "    Attribute min_pinj_15l: value False type <class 'numpy.bool_'>\n",
      "    Attribute min_sustained_15l: value False type <class 'numpy.bool_'>\n",
      "    Attribute only_8x8: value False type <class 'numpy.bool_'>\n",
      "    Attribute only_neg_bt: value False type <class 'numpy.bool_'>\n",
      "    Attribute only_pos_ip: value False type <class 'numpy.bool_'>\n",
      "    Attribute only_standard_8x8: value False type <class 'numpy.bool_'>\n",
      "    Attribute pinj_15l_max: value 1620741.5 type <class 'numpy.float32'>\n",
      "    Attribute pinj_15r_max: value 0.0 type <class 'numpy.float32'>\n",
      "    Attribute pinj_max: value 6055.27734375 type <class 'numpy.float32'>\n",
      "    Attribute quiet: value False type <class 'numpy.bool_'>\n",
      "    Attribute r_avg: value 226.0 type <class 'numpy.float32'>\n",
      "    Attribute r_position: shape (64,) dtype float32\n",
      "    Attribute shot: value 164797 type <class 'numpy.int64'>\n",
      "    Attribute shot_intervals: shape (14, 2) dtype float64\n",
      "    Attribute skip_metadata: value False type <class 'numpy.bool_'>\n",
      "    Attribute with_limited_signals: value True type <class 'numpy.bool_'>\n",
      "    Attribute z_avg: value -0.5 type <class 'numpy.float32'>\n",
      "    Attribute z_position: shape (64,) dtype float32\n"
     ]
    }
   ],
   "source": [
    "elm_label_file = '/home/smithdr/ml/elm_data/step_5_label_elms/elm_label_data_v3.hdf5'\n",
    "print_hdf5_contents(elm_label_file, print_datasets=False, max_groups=3)"
   ]
  },
  {
   "cell_type": "code",
   "execution_count": 3,
   "metadata": {},
   "outputs": [
    {
     "name": "stdout",
     "output_type": "stream",
     "text": [
      "HDF5 data file: /home/smithdr/ml/elm_data/step_4_shot_limited_data/limited_shot_data_v6.hdf5\n",
      "  Shots: 887\n",
      "HDF5 labeled ELM file: /home/smithdr/ml/elm_data/step_5_label_elms/elm_label_data_v3.hdf5\n",
      "  2888 ELMs from 135 shots (255 excluded shots)\n"
     ]
    }
   ],
   "source": [
    "plt.close('all')\n",
    "widgets.Widget.close_all()\n",
    "\n",
    "app = BES_ELM_Labeling_App(\n",
    "    data_hdf5_file='/home/smithdr/ml/elm_data/step_4_shot_limited_data/limited_shot_data_v6.hdf5',\n",
    "    elm_labels_hdf5_file=elm_label_file,\n",
    ")"
   ]
  },
  {
   "cell_type": "code",
   "execution_count": 4,
   "metadata": {},
   "outputs": [
    {
     "data": {
      "application/vnd.jupyter.widget-view+json": {
       "model_id": "d9fb477f6e8849dba11993f55f3e110b",
       "version_major": 2,
       "version_minor": 0
      },
      "text/plain": [
       "AppLayout(children=(Label(value='0 ELMs for this shot | 2888 ELMs from 135 shots (255 skipped shots) | State: …"
      ]
     },
     "execution_count": 4,
     "metadata": {},
     "output_type": "execute_result"
    }
   ],
   "source": [
    "widgets.AppLayout(\n",
    "    left_sidebar=app.controls,\n",
    "    center=app.fig.canvas,\n",
    "    footer=app.status_label,\n",
    "    pane_widths=['160px', 1, 0],\n",
    "    pane_heights=[0, 1, '40px'],\n",
    ")"
   ]
  },
  {
   "cell_type": "code",
   "execution_count": null,
   "metadata": {},
   "outputs": [],
   "source": []
  }
 ],
 "metadata": {
  "kernelspec": {
   "display_name": "py311",
   "language": "python",
   "name": "python3"
  },
  "language_info": {
   "codemirror_mode": {
    "name": "ipython",
    "version": 3
   },
   "file_extension": ".py",
   "mimetype": "text/x-python",
   "name": "python",
   "nbconvert_exporter": "python",
   "pygments_lexer": "ipython3",
   "version": "3.11.5"
  },
  "orig_nbformat": 4
 },
 "nbformat": 4,
 "nbformat_minor": 2
}
