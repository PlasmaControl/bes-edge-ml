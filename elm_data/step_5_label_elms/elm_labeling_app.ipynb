{
 "cells": [
  {
   "cell_type": "code",
   "execution_count": 1,
   "metadata": {},
   "outputs": [],
   "source": [
    "%matplotlib widget\n",
    "import matplotlib.pyplot as plt\n",
    "import ipywidgets as widgets\n",
    "from elm_data.step_5_label_elms.elm_labeling_app import BES_ELM_Labeling_App\n",
    "from elm_data.data_tools import print_hdf5_contents"
   ]
  },
  {
   "cell_type": "code",
   "execution_count": 2,
   "metadata": {},
   "outputs": [
    {
     "name": "stdout",
     "output_type": "stream",
     "text": [
      "Contents of labeled_elms_v3.hdf5\n",
      "Group /: 0 datasets, 2 subgroups, and 1 attributes\n",
      "  Attribute excluded_shots: shape (150,) dtype int64\n",
      "Group /elms: 0 datasets, 2009 subgroups, and 0 attributes\n",
      "Group /elms/000000: 0 datasets, 0 subgroups, and 3 attributes\n",
      "  Attribute shot: value 192006 type <class 'numpy.int64'>\n",
      "  Attribute t_start: value 3537.780029296875 type <class 'numpy.float64'>\n",
      "  Attribute t_stop: value 3568.83994140625 type <class 'numpy.float64'>\n",
      "Group /elms/000001: 0 datasets, 0 subgroups, and 3 attributes\n",
      "  Attribute shot: value 192006 type <class 'numpy.int64'>\n",
      "  Attribute t_start: value 3569.93994140625 type <class 'numpy.float64'>\n",
      "  Attribute t_stop: value 3589.75986328125 type <class 'numpy.float64'>\n",
      "Group /shots: 0 datasets, 89 subgroups, and 0 attributes\n",
      "Group /shots/164791: 16 datasets, 0 subgroups, and 30 attributes\n",
      "  Attribute bt_extremum: value -2.092060089111328 type <class 'numpy.float32'>\n",
      "  Attribute bt_pos_phi: value False type <class 'numpy.bool_'>\n",
      "  Attribute channels: shape (2,) dtype int64\n",
      "  Attribute configuration_index: value 2 type <class 'numpy.int64'>\n",
      "  Attribute date: 18-APR-2016 18:28:06.36\n",
      "  Attribute delz_avg: value 1.3200000524520874 type <class 'numpy.float32'>\n",
      "  Attribute inboard_column_channel_order: shape (8,) dtype int64\n",
      "  Attribute ip_extremum: value 1208833.0 type <class 'numpy.float32'>\n",
      "  Attribute ip_pos_phi: value True type <class 'numpy.bool_'>\n",
      "  Attribute is_8x8: value True type <class 'numpy.bool_'>\n",
      "  Attribute is_standard_8x8: value True type <class 'numpy.bool_'>\n",
      "  Attribute min_pinj_15l: value False type <class 'numpy.bool_'>\n",
      "  Attribute min_sustained_15l: value False type <class 'numpy.bool_'>\n",
      "  Attribute only_8x8: value False type <class 'numpy.bool_'>\n",
      "  Attribute only_neg_bt: value False type <class 'numpy.bool_'>\n",
      "  Attribute only_pos_ip: value False type <class 'numpy.bool_'>\n",
      "  Attribute only_standard_8x8: value False type <class 'numpy.bool_'>\n",
      "  Attribute pinj_15l_max: value 1114108.25 type <class 'numpy.float32'>\n",
      "  Attribute pinj_15r_max: value 779633.4375 type <class 'numpy.float32'>\n",
      "  Attribute pinj_max: value 4650.7001953125 type <class 'numpy.float32'>\n",
      "  Attribute quiet: value True type <class 'numpy.bool_'>\n",
      "  Attribute r_avg: value 226.0 type <class 'numpy.float32'>\n",
      "  Attribute r_position: shape (64,) dtype float32\n",
      "  Attribute shot: value 164791 type <class 'numpy.int64'>\n",
      "  Attribute shot_intervals: shape (14, 2) dtype float64\n",
      "  Attribute start_time: value 500.0 type <class 'numpy.float32'>\n",
      "  Attribute stop_time: value 6167.0 type <class 'numpy.float32'>\n",
      "  Attribute with_other_signals: value True type <class 'numpy.bool_'>\n",
      "  Attribute z_avg: value -0.5 type <class 'numpy.float32'>\n",
      "  Attribute z_position: shape (64,) dtype float32\n",
      "  Dataset FS03: (283351,) float32 1133404\n",
      "  Dataset FS04: (283351,) float32 1133404\n",
      "  Dataset FS05: (283351,) float32 1133404\n",
      "  Dataset FS_time: (283351,) float32 1133404\n",
      "  Dataset bes_signals: (2, 1133401) float32 9067208\n",
      "  Dataset bes_time: (1133401,) float32 4533604\n",
      "  Dataset bt: (11335,) float32 45340\n",
      "  Dataset bt_time: (11335,) float32 45340\n",
      "  Dataset denv3f: (566700,) float32 2266800\n",
      "  Dataset denv3f_time: (566700,) float32 2266800\n",
      "  Dataset ip: (11335,) float32 45340\n",
      "  Dataset ip_time: (11335,) float32 45340\n",
      "  Dataset pinj: (28336,) float32 113344\n",
      "  Dataset pinj_15l: (28336,) float32 113344\n",
      "  Dataset pinj_15r: (28336,) float32 113344\n",
      "  Dataset pinj_time: (28336,) float32 113344\n",
      "Group /shots/164798: 16 datasets, 0 subgroups, and 30 attributes\n",
      "  Attribute bt_extremum: value -2.06596040725708 type <class 'numpy.float32'>\n",
      "  Attribute bt_pos_phi: value False type <class 'numpy.bool_'>\n",
      "  Attribute channels: shape (2,) dtype int64\n",
      "  Attribute configuration_index: value 2 type <class 'numpy.int64'>\n",
      "  Attribute date: 18-APR-2016 18:15:45.88\n",
      "  Attribute delz_avg: value 1.3200000524520874 type <class 'numpy.float32'>\n",
      "  Attribute inboard_column_channel_order: shape (8,) dtype int64\n",
      "  Attribute ip_extremum: value 1398505.25 type <class 'numpy.float32'>\n",
      "  Attribute ip_pos_phi: value True type <class 'numpy.bool_'>\n",
      "  Attribute is_8x8: value True type <class 'numpy.bool_'>\n",
      "  Attribute is_standard_8x8: value True type <class 'numpy.bool_'>\n",
      "  Attribute min_pinj_15l: value False type <class 'numpy.bool_'>\n",
      "  Attribute min_sustained_15l: value False type <class 'numpy.bool_'>\n",
      "  Attribute only_8x8: value False type <class 'numpy.bool_'>\n",
      "  Attribute only_neg_bt: value False type <class 'numpy.bool_'>\n",
      "  Attribute only_pos_ip: value False type <class 'numpy.bool_'>\n",
      "  Attribute only_standard_8x8: value False type <class 'numpy.bool_'>\n",
      "  Attribute pinj_15l_max: value 1544246.875 type <class 'numpy.float32'>\n",
      "  Attribute pinj_15r_max: value 757069.9375 type <class 'numpy.float32'>\n",
      "  Attribute pinj_max: value 6466.74072265625 type <class 'numpy.float32'>\n",
      "  Attribute quiet: value True type <class 'numpy.bool_'>\n",
      "  Attribute r_avg: value 226.0 type <class 'numpy.float32'>\n",
      "  Attribute r_position: shape (64,) dtype float32\n",
      "  Attribute shot: value 164798 type <class 'numpy.int64'>\n",
      "  Attribute shot_intervals: shape (15, 2) dtype float64\n",
      "  Attribute start_time: value 1000.0 type <class 'numpy.float32'>\n",
      "  Attribute stop_time: value 4642.5 type <class 'numpy.float32'>\n",
      "  Attribute with_other_signals: value True type <class 'numpy.bool_'>\n",
      "  Attribute z_avg: value -0.5 type <class 'numpy.float32'>\n",
      "  Attribute z_position: shape (64,) dtype float32\n",
      "  Dataset FS03: (182126,) float32 728504\n",
      "  Dataset FS04: (182126,) float32 728504\n",
      "  Dataset FS05: (182126,) float32 728504\n",
      "  Dataset FS_time: (182126,) float32 728504\n",
      "  Dataset bes_signals: (2, 728501) float32 5828008\n",
      "  Dataset bes_time: (728501,) float32 2914004\n",
      "  Dataset bt: (7286,) float32 29144\n",
      "  Dataset bt_time: (7286,) float32 29144\n",
      "  Dataset denv3f: (364250,) float32 1457000\n",
      "  Dataset denv3f_time: (364250,) float32 1457000\n",
      "  Dataset ip: (7286,) float32 29144\n",
      "  Dataset ip_time: (7286,) float32 29144\n",
      "  Dataset pinj: (18213,) float32 72852\n",
      "  Dataset pinj_15l: (18213,) float32 72852\n",
      "  Dataset pinj_15r: (18213,) float32 72852\n",
      "  Dataset pinj_time: (18213,) float32 72852\n"
     ]
    }
   ],
   "source": [
    "elm_label_file = './labeled_elms_v3.hdf5'\n",
    "print_hdf5_contents(elm_label_file, print_datasets=True, max_groups=2)"
   ]
  },
  {
   "cell_type": "code",
   "execution_count": 3,
   "metadata": {},
   "outputs": [
    {
     "name": "stdout",
     "output_type": "stream",
     "text": [
      "HDF5 data file: /home/smithdr/ml/elm_data/step_4_shot_partial_data/data_v5.hdf5\n",
      "  Shots: 887\n",
      "HDF5 labeled ELM file: /fusion/projects/diagnostics/bes/smithdr/edgeml/elm_data/step_5_label_elms/labeled_elms_v3.hdf5\n",
      "  2009 ELMs from 89 shots (150 excluded shots)\n"
     ]
    }
   ],
   "source": [
    "plt.close('all')\n",
    "widgets.Widget.close_all()\n",
    "\n",
    "app = BES_ELM_Labeling_App(\n",
    "    data_hdf5_file='/home/smithdr/ml/elm_data/step_4_shot_partial_data/data_v5.hdf5',\n",
    "    elm_labels_hdf5_file=elm_label_file,\n",
    ")"
   ]
  },
  {
   "cell_type": "code",
   "execution_count": 4,
   "metadata": {},
   "outputs": [
    {
     "data": {
      "application/vnd.jupyter.widget-view+json": {
       "model_id": "2b2973d279064df3b407e3019b6f6f58",
       "version_major": 2,
       "version_minor": 0
      },
      "text/plain": [
       "AppLayout(children=(Label(value='0 ELMs for this shot | 1982 ELMs from 87 shots (144 skipped shots) | State: c…"
      ]
     },
     "execution_count": 4,
     "metadata": {},
     "output_type": "execute_result"
    }
   ],
   "source": [
    "widgets.AppLayout(\n",
    "    left_sidebar=app.controls,\n",
    "    center=app.fig.canvas,\n",
    "    footer=app.status_label,\n",
    "    pane_widths=['160px', 1, 0],\n",
    "    pane_heights=[0, 1, '40px'],\n",
    ")"
   ]
  },
  {
   "cell_type": "code",
   "execution_count": null,
   "metadata": {},
   "outputs": [],
   "source": []
  },
  {
   "cell_type": "code",
   "execution_count": null,
   "metadata": {},
   "outputs": [],
   "source": []
  }
 ],
 "metadata": {
  "kernelspec": {
   "display_name": "py311",
   "language": "python",
   "name": "python3"
  },
  "language_info": {
   "codemirror_mode": {
    "name": "ipython",
    "version": 3
   },
   "file_extension": ".py",
   "mimetype": "text/x-python",
   "name": "python",
   "nbconvert_exporter": "python",
   "pygments_lexer": "ipython3",
   "version": "3.11.5"
  },
  "orig_nbformat": 4
 },
 "nbformat": 4,
 "nbformat_minor": 2
}
