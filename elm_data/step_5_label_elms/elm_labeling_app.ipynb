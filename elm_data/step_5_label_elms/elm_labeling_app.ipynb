{
 "cells": [
  {
   "cell_type": "code",
   "execution_count": 1,
   "metadata": {},
   "outputs": [],
   "source": [
    "%matplotlib widget\n",
    "import matplotlib.pyplot as plt\n",
    "import ipywidgets as widgets\n",
    "from elm_data.step_5_label_elms.elm_labeling_app import BES_ELM_Labeling_App"
   ]
  },
  {
   "cell_type": "code",
   "execution_count": 2,
   "metadata": {},
   "outputs": [
    {
     "name": "stdout",
     "output_type": "stream",
     "text": [
      "Contents of /home/smithdr/ml/elm_data/step_4_shot_partial_data/data_v4.hdf5\n",
      "Group / with 888 elements\n",
      "Group /162303 with 16 elements\n",
      "  Dataset FS03: (113341,) float32\n",
      "  Dataset FS04: (113341,) float32\n",
      "Skipping additional items...\n",
      "Group /162307 with 16 elements\n",
      "  Dataset FS03: (113341,) float32\n",
      "  Dataset FS04: (113341,) float32\n",
      "Skipping additional items...\n",
      "Skipping additional items...\n",
      "Contents of /fusion/projects/diagnostics/bes/smithdr/edgeml/elm_data/step_5_label_elms/labeled_elms_v2.hdf5\n",
      "Group / with 2 elements\n",
      "Group /elms with 59 elements\n",
      "Group /elms/000000 with 0 elements\n",
      "Group /elms/000001 with 0 elements\n",
      "Group /elms/000002 with 0 elements\n",
      "Skipping additional items...\n",
      "Group /shots with 7 elements\n",
      "Group /shots/166434 with 16 elements\n",
      "  Dataset FS03: (251201,) float32\n",
      "  Dataset FS04: (251201,) float32\n",
      "  Dataset FS05: (251201,) float32\n",
      "Skipping additional items...\n",
      "Group /shots/166615 with 16 elements\n",
      "  Dataset FS03: (257126,) float32\n",
      "  Dataset FS04: (257126,) float32\n",
      "  Dataset FS05: (257126,) float32\n",
      "Skipping additional items...\n",
      "Group /shots/179453 with 16 elements\n",
      "  Dataset FS03: (250361,) float32\n",
      "  Dataset FS04: (250361,) float32\n",
      "  Dataset FS05: (250361,) float32\n",
      "Skipping additional items...\n",
      "Skipping additional items...\n",
      "HDF5 data file: /home/smithdr/ml/elm_data/step_4_shot_partial_data/data_v4.hdf5\n",
      "  Shots: 887\n",
      "HDF5 labeled ELM file: /fusion/projects/diagnostics/bes/smithdr/edgeml/elm_data/step_5_label_elms/labeled_elms_v2.hdf5\n",
      "  59 ELMs from 7 shots\n"
     ]
    }
   ],
   "source": [
    "plt.close('all')\n",
    "widgets.Widget.close_all()\n",
    "\n",
    "app = BES_ELM_Labeling_App(\n",
    "    data_hdf5_file='/home/smithdr/ml/elm_data/step_4_shot_partial_data/data_v4.hdf5',\n",
    "    elm_labels_hdf5_file='./labeled_elms_v2.hdf5',\n",
    "    truncate=False,\n",
    ")"
   ]
  },
  {
   "cell_type": "code",
   "execution_count": null,
   "metadata": {},
   "outputs": [],
   "source": [
    "widgets.AppLayout(\n",
    "    left_sidebar=app.controls,\n",
    "    center=app.fig.canvas,\n",
    "    footer=app.status_label,\n",
    "    pane_widths=['160px', 1, 0],\n",
    "    pane_heights=[0, 1, '40px'],\n",
    ")"
   ]
  },
  {
   "cell_type": "code",
   "execution_count": null,
   "metadata": {},
   "outputs": [],
   "source": []
  }
 ],
 "metadata": {
  "kernelspec": {
   "display_name": "py311",
   "language": "python",
   "name": "python3"
  },
  "language_info": {
   "codemirror_mode": {
    "name": "ipython",
    "version": 3
   },
   "file_extension": ".py",
   "mimetype": "text/x-python",
   "name": "python",
   "nbconvert_exporter": "python",
   "pygments_lexer": "ipython3",
   "version": "3.11.5"
  },
  "orig_nbformat": 4
 },
 "nbformat": 4,
 "nbformat_minor": 2
}
